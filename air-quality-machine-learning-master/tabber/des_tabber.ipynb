{
 "cells": [
  {
   "cell_type": "code",
   "execution_count": 1,
   "metadata": {},
   "outputs": [],
   "source": [
    "import os, sys\n",
    "import numpy as np\n",
    "import pandas as pd\n",
    "import scipy as sp\n",
    "from datetime import datetime\n",
    "import matplotlib.pyplot as plt\n",
    "from tqdm import tqdm, tqdm_notebook\n",
    "from sklearn.model_selection import train_test_split"
   ]
  },
  {
   "cell_type": "code",
   "execution_count": 2,
   "metadata": {},
   "outputs": [],
   "source": [
    "# define paths\n",
    "main_root = \"../../data/main/\""
   ]
  },
  {
   "cell_type": "code",
   "execution_count": 3,
   "metadata": {},
   "outputs": [],
   "source": [
    "caption = pd.read_csv(os.path.join(main_root, \"var_des.csv\"))\n",
    "caption = caption[~pd.isnull(caption.order)]\n",
    "caption.set_index('var_name', inplace=True)\n",
    "caption = caption.drop('order', axis=1)"
   ]
  },
  {
   "cell_type": "code",
   "execution_count": 4,
   "metadata": {},
   "outputs": [],
   "source": [
    "main = pd.read_csv(os.path.join(main_root, \"pred.csv\"))\n",
    "main.set_index(['id', 'date'], inplace=True)\n",
    "des = main.describe().T\n",
    "des = des[['count', 'mean', 'std']]\n",
    "des = des.assign(missing = 100 * (1 - des['count'] / main.shape[0]))\n",
    "caption = caption.join(des)"
   ]
  },
  {
   "cell_type": "code",
   "execution_count": 5,
   "metadata": {},
   "outputs": [],
   "source": [
    "caption.loc['full-sample', 'Description'] = \"\\\\multicolumn{{7}}{{l}}{{\\\\textbf{{Full Sample, {:d} Stations, {:d} Days}}}}\\\\\\\\ \\\\midrule &\".format(\n",
    "    len(main.index.get_level_values('id').unique()),\n",
    "    len(main.index.get_level_values('date').unique()))"
   ]
  },
  {
   "cell_type": "code",
   "execution_count": 6,
   "metadata": {},
   "outputs": [],
   "source": [
    "main = pd.read_csv(os.path.join(main_root, \"train_test.csv\"))\n",
    "main.set_index(['id', 'date'], inplace=True)\n",
    "des = main.loc[:, main.columns.str.startswith('target_')].describe().T\n",
    "des = des[['count', 'mean', 'std']]\n",
    "des = des.assign(missing = 100 * (1 - des['count'] / main.shape[0]))\n",
    "caption.update(des)"
   ]
  },
  {
   "cell_type": "code",
   "execution_count": 7,
   "metadata": {},
   "outputs": [],
   "source": [
    "caption.loc['train-sample', 'Description'] = \"\\\\midrule \\\\multicolumn{{7}}{{l}}{{\\\\textbf{{Training Sample, {:d} Stations, {:d} Days}}}}\\\\\\\\ \\\\midrule &\".format(\n",
    "    len(main.index.get_level_values('id').unique()),\n",
    "    len(main.index.get_level_values('date').unique()))"
   ]
  },
  {
   "cell_type": "code",
   "execution_count": 8,
   "metadata": {},
   "outputs": [],
   "source": [
    "caption = caption[2:].drop('count', axis=1)"
   ]
  },
  {
   "cell_type": "code",
   "execution_count": 9,
   "metadata": {},
   "outputs": [],
   "source": [
    "caption['mean'] = caption['mean'].round(2)\n",
    "caption['std'] = caption['std'].round(2)\n",
    "caption['missing'] = caption['missing'].round(2)\n",
    "caption['std'] = caption['std'].apply(lambda x: x if pd.isnull(x) else \"(\" + str(x) + \")\")\n",
    "caption['missing'] = caption['missing'].apply(lambda x: x if pd.isnull(x) else str(x) + \"\\\\%\")"
   ]
  },
  {
   "cell_type": "code",
   "execution_count": 10,
   "metadata": {},
   "outputs": [],
   "source": [
    "caption.columns = ['Description', 'Kernel', 'Moving Average', 'Adjustment', 'Mean', '(Std. Dev.)', 'Missing']"
   ]
  },
  {
   "cell_type": "code",
   "execution_count": 11,
   "metadata": {},
   "outputs": [],
   "source": [
    "pd.set_option('display.max_colwidth', 1000)\n",
    "caption.to_latex(\"../../draft/descriptives_output.tex\", index=False,\n",
    "                 escape=False, na_rep=\"\", column_format=\"lcccccc\")"
   ]
  },
  {
   "cell_type": "code",
   "execution_count": 13,
   "metadata": {},
   "outputs": [],
   "source": [
    "! sed -i -e 's/\\&[[:space:]]\\+\\&[[:space:]]\\+\\&[[:space:]]\\+\\&[[:space:]]\\+\\&[[:space:]]\\+\\&[[:space:]]\\+\\&[[:space:]]\\+\\\\\\\\/ /g' ../../draft/descriptives_output.tex"
   ]
  },
  {
   "cell_type": "code",
   "execution_count": 14,
   "metadata": {},
   "outputs": [],
   "source": [
    "! sed -i -e 's/\\&[[:space:]]\\+\\&[[:space:]]\\+\\&[[:space:]]\\+\\&[[:space:]]\\+\\&[[:space:]]\\+\\&[[:space:]]\\+\\\\\\\\/ /g' ../../draft/descriptives_output.tex"
   ]
  },
  {
   "cell_type": "code",
   "execution_count": null,
   "metadata": {},
   "outputs": [],
   "source": []
  }
 ],
 "metadata": {
  "kernelspec": {
   "display_name": "Python 3",
   "language": "python",
   "name": "python3"
  },
  "language_info": {
   "codemirror_mode": {
    "name": "ipython",
    "version": 3
   },
   "file_extension": ".py",
   "mimetype": "text/x-python",
   "name": "python",
   "nbconvert_exporter": "python",
   "pygments_lexer": "ipython3",
   "version": "3.5.2"
  }
 },
 "nbformat": 4,
 "nbformat_minor": 2
}
