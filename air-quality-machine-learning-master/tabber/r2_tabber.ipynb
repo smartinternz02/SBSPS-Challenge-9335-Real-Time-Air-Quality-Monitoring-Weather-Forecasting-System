{
 "cells": [
  {
   "cell_type": "code",
   "execution_count": 27,
   "metadata": {},
   "outputs": [],
   "source": [
    "import pandas as pd\n",
    "import numpy as np\n",
    "from glob import glob\n",
    "import os, re\n",
    "import matplotlib.pyplot as plt\n",
    "from sklearn.metrics import r2_score\n",
    "from tqdm import tqdm_notebook\n",
    "\n",
    "plt.style.use('ggplot')"
   ]
  },
  {
   "cell_type": "code",
   "execution_count": 28,
   "metadata": {},
   "outputs": [],
   "source": [
    "input_root = \"../../data/output/xgbooster/\"\n",
    "monitor_root = \"../../data/csv/monitor\"\n",
    "test_root = \"../../data/csv/aqi_csv_test/\""
   ]
  },
  {
   "cell_type": "code",
   "execution_count": 29,
   "metadata": {},
   "outputs": [],
   "source": [
    "# load coordinates\n",
    "monitor_coords = pd.read_csv(os.path.join(monitor_root, \"monitor_coords.csv\"))\n",
    "monitor_coords.set_index(\"id\", inplace=True)"
   ]
  },
  {
   "cell_type": "code",
   "execution_count": 54,
   "metadata": {},
   "outputs": [],
   "source": [
    "freq = \"day\"\n",
    "# freq = \"7day\"\n",
    "# freq = \"14day\"\n",
    "method = \"cv\"\n",
    "# method = \"test\"\n",
    "main_file = \"train_output.csv\"\n",
    "# main_file = \"test_output.csv\"\n",
    "r2_file = freq + \"_r2_\" + method + \".csv\""
   ]
  },
  {
   "cell_type": "code",
   "execution_count": 55,
   "metadata": {},
   "outputs": [],
   "source": [
    "drop_file = \"day_r2_cv.csv\""
   ]
  },
  {
   "cell_type": "code",
   "execution_count": 56,
   "metadata": {},
   "outputs": [
    {
     "data": {
      "application/vnd.jupyter.widget-view+json": {
       "model_id": "5bb5c66f8f0a4c4faa00ffc54c052173",
       "version_major": 2,
       "version_minor": 0
      },
      "text/html": [
       "<p>Failed to display Jupyter Widget of type <code>HBox</code>.</p>\n",
       "<p>\n",
       "  If you're reading this message in Jupyter Notebook or JupyterLab, it may mean\n",
       "  that the widgets JavaScript is still loading. If this message persists, it\n",
       "  likely means that the widgets JavaScript library is either not installed or\n",
       "  not enabled. See the <a href=\"https://ipywidgets.readthedocs.io/en/stable/user_install.html\">Jupyter\n",
       "  Widgets Documentation</a> for setup instructions.\n",
       "</p>\n",
       "<p>\n",
       "  If you're reading this message in another notebook frontend (for example, a static\n",
       "  rendering on GitHub or <a href=\"https://nbviewer.jupyter.org/\">NBViewer</a>),\n",
       "  it may mean that your frontend doesn't currently support widgets.\n",
       "</p>\n"
      ],
      "text/plain": [
       "HBox(children=(IntProgress(value=0, max=7), HTML(value='')))"
      ]
     },
     "metadata": {},
     "output_type": "display_data"
    },
    {
     "name": "stdout",
     "output_type": "stream",
     "text": [
      "\n"
     ]
    }
   ],
   "source": [
    "results = pd.DataFrame({\n",
    "    \"median\": np.nan, \"5p\": np.nan, \"10p\": np.nan,\n",
    "    \"90p\": np.nan, \"95p\": np.nan, \"overall\": np.nan},\n",
    "    index=[\"API\", \"PM10\", \"PM2.5\", \"O3\", \"SO2\", \"NO2\", \"CO\"])\n",
    "\n",
    "for target_name in tqdm_notebook([\"API\", \"PM10\", \"PM2.5\", \"O3\", \"SO2\", \"NO2\", \"CO\"]):\n",
    "    # calculate overall r2\n",
    "    main = pd.read_csv(os.path.join(input_root, target_name, main_file))\n",
    "    main['date'] = pd.to_datetime(main['date'])\n",
    "    main = main.assign(\n",
    "        year = main.date.dt.year,\n",
    "        week = main.date.dt.week,\n",
    "        biweek = ((main.date.dt.week + 1) / 2).astype(int))\n",
    "    if freq == \"day\":\n",
    "        results.loc[target_name, 'overall'] = r2_score(\n",
    "            main.true.values, main.pred.values)\n",
    "    elif freq == \"7day\":\n",
    "        results.loc[target_name, 'overall'] = r2_score(\n",
    "            main.groupby(['year', 'week']).true.mean().values,\n",
    "            main.groupby(['year', 'week']).pred.mean().values)\n",
    "    elif freq == \"14day\":\n",
    "        results.loc[target_name, 'overall'] = r2_score(\n",
    "            main.groupby(['year', 'biweek']).true.mean().values,\n",
    "            main.groupby(['year', 'biweek']).pred.mean().values)\n",
    "    else:\n",
    "        raise ValueError(\"Specify Frequency\")\n",
    "    # calculate station-specific r2\n",
    "    r2 = pd.read_csv(os.path.join(input_root, target_name, r2_file), index_col='id')\n",
    "    # drop half of the stations\n",
    "    drop = pd.read_csv(os.path.join(input_root, target_name, drop_file))\n",
    "    ids = set(drop.loc[drop.r2 >= np.percentile(drop.r2, q=50), 'id'])\n",
    "    ids = ids.intersection(set(r2.index))\n",
    "    r2 = r2.loc[ids, :]\n",
    "    results.loc[target_name, '5p'] = np.percentile(r2.r2.values, q=5)\n",
    "    results.loc[target_name, '10p'] = np.percentile(r2.r2.values, q=10)\n",
    "    results.loc[target_name, 'median'] = np.percentile(r2.r2.values, q=50)\n",
    "    results.loc[target_name, '90p'] = np.percentile(r2.r2.values, q=90)\n",
    "    results.loc[target_name, '95p'] = np.percentile(r2.r2.values, q=95)"
   ]
  },
  {
   "cell_type": "code",
   "execution_count": 57,
   "metadata": {},
   "outputs": [
    {
     "data": {
      "text/html": [
       "<div>\n",
       "<style scoped>\n",
       "    .dataframe tbody tr th:only-of-type {\n",
       "        vertical-align: middle;\n",
       "    }\n",
       "\n",
       "    .dataframe tbody tr th {\n",
       "        vertical-align: top;\n",
       "    }\n",
       "\n",
       "    .dataframe thead th {\n",
       "        text-align: right;\n",
       "    }\n",
       "</style>\n",
       "<table border=\"1\" class=\"dataframe\">\n",
       "  <thead>\n",
       "    <tr style=\"text-align: right;\">\n",
       "      <th></th>\n",
       "      <th>10p</th>\n",
       "      <th>5p</th>\n",
       "      <th>90p</th>\n",
       "      <th>95p</th>\n",
       "      <th>median</th>\n",
       "      <th>overall</th>\n",
       "    </tr>\n",
       "  </thead>\n",
       "  <tbody>\n",
       "    <tr>\n",
       "      <th>API</th>\n",
       "      <td>0.293208</td>\n",
       "      <td>0.280258</td>\n",
       "      <td>0.467399</td>\n",
       "      <td>0.514954</td>\n",
       "      <td>0.362494</td>\n",
       "      <td>0.547382</td>\n",
       "    </tr>\n",
       "    <tr>\n",
       "      <th>PM10</th>\n",
       "      <td>0.284773</td>\n",
       "      <td>0.275206</td>\n",
       "      <td>0.459421</td>\n",
       "      <td>0.500277</td>\n",
       "      <td>0.354984</td>\n",
       "      <td>0.508091</td>\n",
       "    </tr>\n",
       "    <tr>\n",
       "      <th>PM2.5</th>\n",
       "      <td>0.332238</td>\n",
       "      <td>0.322423</td>\n",
       "      <td>0.502587</td>\n",
       "      <td>0.522303</td>\n",
       "      <td>0.391452</td>\n",
       "      <td>0.503471</td>\n",
       "    </tr>\n",
       "    <tr>\n",
       "      <th>O3</th>\n",
       "      <td>0.444517</td>\n",
       "      <td>0.430429</td>\n",
       "      <td>0.688065</td>\n",
       "      <td>0.726127</td>\n",
       "      <td>0.545479</td>\n",
       "      <td>0.618097</td>\n",
       "    </tr>\n",
       "    <tr>\n",
       "      <th>SO2</th>\n",
       "      <td>0.187106</td>\n",
       "      <td>0.157242</td>\n",
       "      <td>0.586689</td>\n",
       "      <td>0.646528</td>\n",
       "      <td>0.358325</td>\n",
       "      <td>0.572890</td>\n",
       "    </tr>\n",
       "    <tr>\n",
       "      <th>NO2</th>\n",
       "      <td>0.305031</td>\n",
       "      <td>0.288977</td>\n",
       "      <td>0.527643</td>\n",
       "      <td>0.564381</td>\n",
       "      <td>0.411268</td>\n",
       "      <td>0.600298</td>\n",
       "    </tr>\n",
       "    <tr>\n",
       "      <th>CO</th>\n",
       "      <td>0.161985</td>\n",
       "      <td>0.142338</td>\n",
       "      <td>0.505114</td>\n",
       "      <td>0.562199</td>\n",
       "      <td>0.302467</td>\n",
       "      <td>0.529981</td>\n",
       "    </tr>\n",
       "  </tbody>\n",
       "</table>\n",
       "</div>"
      ],
      "text/plain": [
       "            10p        5p       90p       95p    median   overall\n",
       "API    0.293208  0.280258  0.467399  0.514954  0.362494  0.547382\n",
       "PM10   0.284773  0.275206  0.459421  0.500277  0.354984  0.508091\n",
       "PM2.5  0.332238  0.322423  0.502587  0.522303  0.391452  0.503471\n",
       "O3     0.444517  0.430429  0.688065  0.726127  0.545479  0.618097\n",
       "SO2    0.187106  0.157242  0.586689  0.646528  0.358325  0.572890\n",
       "NO2    0.305031  0.288977  0.527643  0.564381  0.411268  0.600298\n",
       "CO     0.161985  0.142338  0.505114  0.562199  0.302467  0.529981"
      ]
     },
     "execution_count": 57,
     "metadata": {},
     "output_type": "execute_result"
    }
   ],
   "source": [
    "results"
   ]
  },
  {
   "cell_type": "code",
   "execution_count": 58,
   "metadata": {},
   "outputs": [],
   "source": [
    "for col in results:\n",
    "    results[col] = results[col].round(2)\n",
    "results['target'] = [\n",
    "    \"API\", \"PM$_{10}$\", \"PM$_{2.5}$\", \"O$_3$\", \"SO$_2$\", \"NO$_2$\", \"CO\"]\n",
    "results = results[['target', 'overall', '5p', '10p', 'median', '90p', '95p']]"
   ]
  },
  {
   "cell_type": "code",
   "execution_count": 59,
   "metadata": {},
   "outputs": [],
   "source": [
    "results.columns = pd.MultiIndex.from_tuples([\n",
    "    (\"Target Variable\", \" \"), (\"Overall R$^2$\", \" \"),\n",
    "    ('Station-Specific R$^2$ Percentiles', \"5\\\\%\"),\n",
    "    ('Station-Specific R$^2$ Percentiles', \"10\\\\%\"),\n",
    "    ('Station-Specific R$^2$ Percentiles', \"50\\\\%\"),\n",
    "    ('Station-Specific R$^2$ Percentiles', \"90\\\\%\"),\n",
    "    ('Station-Specific R$^2$ Percentiles', \"95\\\\%\")])"
   ]
  },
  {
   "cell_type": "code",
   "execution_count": 60,
   "metadata": {},
   "outputs": [
    {
     "data": {
      "text/html": [
       "<div>\n",
       "<style scoped>\n",
       "    .dataframe tbody tr th:only-of-type {\n",
       "        vertical-align: middle;\n",
       "    }\n",
       "\n",
       "    .dataframe tbody tr th {\n",
       "        vertical-align: top;\n",
       "    }\n",
       "\n",
       "    .dataframe thead tr th {\n",
       "        text-align: left;\n",
       "    }\n",
       "</style>\n",
       "<table border=\"1\" class=\"dataframe\">\n",
       "  <thead>\n",
       "    <tr>\n",
       "      <th></th>\n",
       "      <th>Target Variable</th>\n",
       "      <th>Overall R$^2$</th>\n",
       "      <th colspan=\"5\" halign=\"left\">Station-Specific R$^2$ Percentiles</th>\n",
       "    </tr>\n",
       "    <tr>\n",
       "      <th></th>\n",
       "      <th></th>\n",
       "      <th></th>\n",
       "      <th>5\\%</th>\n",
       "      <th>10\\%</th>\n",
       "      <th>50\\%</th>\n",
       "      <th>90\\%</th>\n",
       "      <th>95\\%</th>\n",
       "    </tr>\n",
       "  </thead>\n",
       "  <tbody>\n",
       "    <tr>\n",
       "      <th>API</th>\n",
       "      <td>API</td>\n",
       "      <td>0.55</td>\n",
       "      <td>0.28</td>\n",
       "      <td>0.29</td>\n",
       "      <td>0.36</td>\n",
       "      <td>0.47</td>\n",
       "      <td>0.51</td>\n",
       "    </tr>\n",
       "    <tr>\n",
       "      <th>PM10</th>\n",
       "      <td>PM$_{10}$</td>\n",
       "      <td>0.51</td>\n",
       "      <td>0.28</td>\n",
       "      <td>0.28</td>\n",
       "      <td>0.35</td>\n",
       "      <td>0.46</td>\n",
       "      <td>0.50</td>\n",
       "    </tr>\n",
       "    <tr>\n",
       "      <th>PM2.5</th>\n",
       "      <td>PM$_{2.5}$</td>\n",
       "      <td>0.50</td>\n",
       "      <td>0.32</td>\n",
       "      <td>0.33</td>\n",
       "      <td>0.39</td>\n",
       "      <td>0.50</td>\n",
       "      <td>0.52</td>\n",
       "    </tr>\n",
       "    <tr>\n",
       "      <th>O3</th>\n",
       "      <td>O$_3$</td>\n",
       "      <td>0.62</td>\n",
       "      <td>0.43</td>\n",
       "      <td>0.44</td>\n",
       "      <td>0.55</td>\n",
       "      <td>0.69</td>\n",
       "      <td>0.73</td>\n",
       "    </tr>\n",
       "    <tr>\n",
       "      <th>SO2</th>\n",
       "      <td>SO$_2$</td>\n",
       "      <td>0.57</td>\n",
       "      <td>0.16</td>\n",
       "      <td>0.19</td>\n",
       "      <td>0.36</td>\n",
       "      <td>0.59</td>\n",
       "      <td>0.65</td>\n",
       "    </tr>\n",
       "    <tr>\n",
       "      <th>NO2</th>\n",
       "      <td>NO$_2$</td>\n",
       "      <td>0.60</td>\n",
       "      <td>0.29</td>\n",
       "      <td>0.31</td>\n",
       "      <td>0.41</td>\n",
       "      <td>0.53</td>\n",
       "      <td>0.56</td>\n",
       "    </tr>\n",
       "    <tr>\n",
       "      <th>CO</th>\n",
       "      <td>CO</td>\n",
       "      <td>0.53</td>\n",
       "      <td>0.14</td>\n",
       "      <td>0.16</td>\n",
       "      <td>0.30</td>\n",
       "      <td>0.51</td>\n",
       "      <td>0.56</td>\n",
       "    </tr>\n",
       "  </tbody>\n",
       "</table>\n",
       "</div>"
      ],
      "text/plain": [
       "      Target Variable Overall R$^2$ Station-Specific R$^2$ Percentiles        \\\n",
       "                                                                   5\\%  10\\%   \n",
       "API               API          0.55                               0.28  0.29   \n",
       "PM10        PM$_{10}$          0.51                               0.28  0.28   \n",
       "PM2.5      PM$_{2.5}$          0.50                               0.32  0.33   \n",
       "O3              O$_3$          0.62                               0.43  0.44   \n",
       "SO2            SO$_2$          0.57                               0.16  0.19   \n",
       "NO2            NO$_2$          0.60                               0.29  0.31   \n",
       "CO                 CO          0.53                               0.14  0.16   \n",
       "\n",
       "                         \n",
       "       50\\%  90\\%  95\\%  \n",
       "API    0.36  0.47  0.51  \n",
       "PM10   0.35  0.46  0.50  \n",
       "PM2.5  0.39  0.50  0.52  \n",
       "O3     0.55  0.69  0.73  \n",
       "SO2    0.36  0.59  0.65  \n",
       "NO2    0.41  0.53  0.56  \n",
       "CO     0.30  0.51  0.56  "
      ]
     },
     "execution_count": 60,
     "metadata": {},
     "output_type": "execute_result"
    }
   ],
   "source": [
    "results"
   ]
  },
  {
   "cell_type": "code",
   "execution_count": 61,
   "metadata": {},
   "outputs": [],
   "source": [
    "results.to_latex(\"../../draft/\" + freq + \"_r2_\" + method + \"_output.tex\", index=False,\n",
    "                 escape=False, na_rep=\"\",\n",
    "                 column_format=\"L{1.2in}C{0.8in}C{0.6in}C{0.6in}C{0.6in}C{0.6in}C{0.6in}\")"
   ]
  },
  {
   "cell_type": "code",
   "execution_count": 62,
   "metadata": {},
   "outputs": [],
   "source": [
    "! sed -i -e 's/multicolumn{5}{l}{Station-Specific R$^2$ Percentiles} \\\\\\\\/multicolumn{5}{c}{Station-Specific R$^2$ Percentiles}\\\\\\\\ \\\\cmidrule{3-7} \\&/' ../../draft/day_r2_test_output.tex"
   ]
  },
  {
   "cell_type": "code",
   "execution_count": 63,
   "metadata": {},
   "outputs": [],
   "source": [
    "! sed -i -e 's/multicolumn{5}{l}{Station-Specific R$^2$ Percentiles} \\\\\\\\/multicolumn{5}{c}{Station-Specific R$^2$ Percentiles}\\\\\\\\ \\\\cmidrule{3-7} \\&/' ../../draft/7day_r2_test_output.tex"
   ]
  },
  {
   "cell_type": "code",
   "execution_count": 64,
   "metadata": {},
   "outputs": [],
   "source": [
    "! sed -i -e 's/multicolumn{5}{l}{Station-Specific R$^2$ Percentiles} \\\\\\\\/multicolumn{5}{c}{Station-Specific R$^2$ Percentiles}\\\\\\\\ \\\\cmidrule{3-7} \\&/' ../../draft/day_r2_cv_output.tex"
   ]
  },
  {
   "cell_type": "code",
   "execution_count": 65,
   "metadata": {},
   "outputs": [],
   "source": [
    "! sed -i -e 's/multicolumn{5}{l}{Station-Specific R$^2$ Percentiles} \\\\\\\\/multicolumn{5}{c}{Station-Specific R$^2$ Percentiles}\\\\\\\\ \\\\cmidrule{3-7} \\&/' ../../draft/7day_r2_cv_output.tex"
   ]
  },
  {
   "cell_type": "code",
   "execution_count": null,
   "metadata": {},
   "outputs": [],
   "source": []
  }
 ],
 "metadata": {
  "kernelspec": {
   "display_name": "Python 3",
   "language": "python",
   "name": "python3"
  },
  "language_info": {
   "codemirror_mode": {
    "name": "ipython",
    "version": 3
   },
   "file_extension": ".py",
   "mimetype": "text/x-python",
   "name": "python",
   "nbconvert_exporter": "python",
   "pygments_lexer": "ipython3",
   "version": "3.5.2"
  }
 },
 "nbformat": 4,
 "nbformat_minor": 2
}
