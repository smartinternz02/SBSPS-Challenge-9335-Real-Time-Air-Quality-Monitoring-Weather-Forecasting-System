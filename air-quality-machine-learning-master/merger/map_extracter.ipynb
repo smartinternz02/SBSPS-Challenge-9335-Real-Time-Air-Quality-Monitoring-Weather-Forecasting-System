{
 "cells": [
  {
   "cell_type": "markdown",
   "metadata": {},
   "source": [
    "# Data Merging\n",
    "\n",
    "## Author: Yue 'Luna' Huang\n",
    "\n",
    "### Nov 16, 2017"
   ]
  },
  {
   "cell_type": "code",
   "execution_count": 1,
   "metadata": {},
   "outputs": [],
   "source": [
    "import os, sys\n",
    "import numpy as np\n",
    "import pandas as pd\n",
    "import scipy as sp\n",
    "from datetime import datetime\n",
    "import matplotlib.pyplot as plt\n",
    "\n",
    "import gdal, osr\n",
    "\n",
    "from scipy.interpolate import RegularGridInterpolator\n",
    "\n",
    "from tqdm import tqdm, tqdm_notebook"
   ]
  },
  {
   "cell_type": "code",
   "execution_count": 2,
   "metadata": {},
   "outputs": [],
   "source": [
    "assert sys.version_info[0] >= 3, \"Python 3 or a more recent version is required.\""
   ]
  },
  {
   "cell_type": "markdown",
   "metadata": {},
   "source": [
    "## Class and Function"
   ]
  },
  {
   "cell_type": "code",
   "execution_count": 3,
   "metadata": {},
   "outputs": [],
   "source": [
    "class Raster:\n",
    "    \n",
    "    import numpy as np\n",
    "    from scipy.interpolate import RegularGridInterpolator\n",
    "    \n",
    "    def __init__(self,\n",
    "                 latUpper=56 - 0.1/2, longLower=72 + 0.1/2,\n",
    "                 latStep=0.1, longStep=0.1,\n",
    "                 latN=400, longN=650):\n",
    "        \"\"\" Record latitude and longitude information on the uniform grid.\n",
    "        Default to our bounding box in China.\n",
    "        \n",
    "        :param\n",
    "            latUpper, longLower:\n",
    "                float, the upper left corner of the bounding box\n",
    "            latStep, longStep:\n",
    "                float, the spatial resolution in degrees, both should be positive\n",
    "            latN, longN:\n",
    "                int, total number of observations in each dimension\n",
    "        \"\"\"\n",
    "        \n",
    "        # initialized values\n",
    "        self.latUpper = latUpper\n",
    "        self.longLower = longLower\n",
    "        self.latStep = latStep\n",
    "        self.longStep = longStep\n",
    "        self.latN = latN\n",
    "        self.longN = longN\n",
    "        self.latLower = latUpper - latStep * (latN - 1)\n",
    "        self.longUpper = longLower + longStep * (longN - 1)\n",
    "        # compute coordinates\n",
    "        self.lat = np.linspace(self.latLower, self.latUpper, self.latN)\n",
    "        self.long = np.linspace(self.longLower, self.longUpper, self.longN)\n",
    "        # initialize empty array\n",
    "        self.values = np.empty((self.longN, self.latN))\n",
    "        self.values.fill(np.nan)\n",
    "        \n",
    "    def fill(self, array):\n",
    "        \"\"\" Fill in the raster with the array.\n",
    "        \n",
    "        :param\n",
    "            array:\n",
    "                2 dimensional ndarray, the first element of the array should be\n",
    "                the lower left corner of the map (smallest long and lat)\n",
    "                the array is long (dimension 0) by lat (dimension 1)\n",
    "        \"\"\"\n",
    "        \n",
    "        # check dimension\n",
    "        assert array.shape == (self.longN, self.latN), \"Dimension Mismatch.\"\n",
    "        # copy array\n",
    "        self.values = array.copy()\n",
    "    \n",
    "    def find_neighbor_mean(self, points):\n",
    "        \"\"\" Impute the closest observation contained in self raster.\n",
    "        \n",
    "        :param\n",
    "            points:\n",
    "                a two-dimensional ndarray with a pair of long, lat in each row\n",
    "                interpolation will be based on self, output will be returned\n",
    "        :return\n",
    "            a one-dimensional ndarray with the interpolated points\n",
    "        \"\"\"\n",
    "        \n",
    "        # initialize output\n",
    "        output = np.empty((points.shape[0]))\n",
    "        output.fill(np.nan)\n",
    "        \n",
    "        # extract values from self array via direct indexing\n",
    "        for i, point in enumerate(points):\n",
    "            # find source index\n",
    "            selfLongIndex = int(np.floor(\n",
    "                (point[0] - self.longLower) / self.longStep))\n",
    "            selfLatIndex = int(np.floor(\n",
    "                (point[1] - self.latLower) / self.latStep))\n",
    "            # impute value\n",
    "            output[i] = np.nanmean(\n",
    "                self.values[selfLongIndex:(selfLongIndex + 2), selfLatIndex:(selfLatIndex + 2)])\n",
    "        return output\n",
    "    \n",
    "    def find_weighted_mean(self, kernel, points):\n",
    "        \"\"\" Impute weighted mean contained in self raster.\n",
    "        \n",
    "        :param\n",
    "            kernel:\n",
    "                a two-dimensional ndarray, the spatial kernel\n",
    "            points:\n",
    "                a two-dimensional ndarray with a pair of long, lat in each row\n",
    "                interpolation will be based on self, output will be returned\n",
    "        :return\n",
    "            a one-dimensional ndarray with the interpolated points\n",
    "        \"\"\"\n",
    "        \n",
    "        # initialize output\n",
    "        output = np.empty((points.shape[0]))\n",
    "        output.fill(np.nan)\n",
    "        \n",
    "        # extract values from self array via direct indexing\n",
    "        for i, point in enumerate(points):\n",
    "            # find source index\n",
    "            selfLongIndex = int(np.floor(\n",
    "                (point[0] - self.longLower) / self.longStep))\n",
    "            selfLatIndex = int(np.floor(\n",
    "                (point[1] - self.latLower) / self.latStep))\n",
    "            longBand, latBand = kernel.shape\n",
    "            longBand, latBand = int(longBand / 2), int(latBand / 2)\n",
    "            cell = self.values[(selfLongIndex + 1 - longBand):(selfLongIndex + 1 + longBand),\n",
    "                               (selfLatIndex + 1 - latBand):(selfLatIndex + 1 + latBand)]\n",
    "            # impute value\n",
    "            if np.isnan(cell[kernel != 0]).all():\n",
    "                output[i] = np.nan\n",
    "            else:\n",
    "                kernel[np.isnan(cell)] = 0\n",
    "                kernel = kernel / np.sum(kernel)\n",
    "                output[i] = np.nansum(cell * kernel)\n",
    "        return output\n",
    "    \n",
    "    def find_interpolated(self, points):\n",
    "        \"\"\" Impute the interpolated values contained in self raster.\n",
    "        \n",
    "        :param\n",
    "            points:\n",
    "                a two-dimensional ndarray with a pair of long, lat in each row\n",
    "                interpolation will be based on self, output will be returned\n",
    "        :return\n",
    "            a one-dimensional ndarray with the interpolated points\n",
    "        \"\"\"\n",
    "        \n",
    "        # extract values\n",
    "        rgi = RegularGridInterpolator((self.long, self.lat), self.values)\n",
    "        output = rgi(points)\n",
    "        return output"
   ]
  },
  {
   "cell_type": "markdown",
   "metadata": {},
   "source": [
    "## Extract CSVs from Rasters"
   ]
  },
  {
   "cell_type": "markdown",
   "metadata": {},
   "source": [
    "### EVI"
   ]
  },
  {
   "cell_type": "code",
   "execution_count": 12,
   "metadata": {},
   "outputs": [],
   "source": [
    "# define paths\n",
    "monitor_coords_file = \"../../data/processed/monitor/monitor_coords.csv\"\n",
    "raster_root = \"../../data/processed/evi/\"\n",
    "output_root = \"../../data/processed/evi_csv/\""
   ]
  },
  {
   "cell_type": "code",
   "execution_count": 13,
   "metadata": {},
   "outputs": [],
   "source": [
    "monitor_coords = pd.read_csv(monitor_coords_file)\n",
    "output = monitor_coords[['id']].copy()"
   ]
  },
  {
   "cell_type": "code",
   "execution_count": 14,
   "metadata": {},
   "outputs": [],
   "source": [
    "points = monitor_coords[['long', 'lat']].values"
   ]
  },
  {
   "cell_type": "code",
   "execution_count": 15,
   "metadata": {},
   "outputs": [],
   "source": [
    "raster_files = [f for f in os.listdir(raster_root) if f.endswith('.tif')]"
   ]
  },
  {
   "cell_type": "code",
   "execution_count": 16,
   "metadata": {},
   "outputs": [],
   "source": [
    "# test\n",
    "if False:\n",
    "    raster_files = raster_files[0:3]"
   ]
  },
  {
   "cell_type": "code",
   "execution_count": 18,
   "metadata": {},
   "outputs": [
    {
     "name": "stderr",
     "output_type": "stream",
     "text": [
      "100%|██████████| 3/3 [00:00<00:00, 43.55it/s]\n"
     ]
    }
   ],
   "source": [
    "raster_parent = Raster()\n",
    "for raster_file in tqdm(raster_files):\n",
    "    # parse file name\n",
    "    raster_info = raster_file.split('.')[0]\n",
    "    date, dataset, variable = raster_info.split('_')\n",
    "    # read in array\n",
    "    raster = gdal.Open(os.path.join(raster_root, raster_file)).ReadAsArray()\n",
    "    raster_parent.fill(raster)\n",
    "    # generate output\n",
    "    raster_output = raster_parent.find_interpolated(points).astype(np.float16)\n",
    "    # reduce float bytes\n",
    "    kwargs = {variable: raster_output, 'date': date}\n",
    "    output.assign(**kwargs).to_csv(os.path.join(output_root, raster_info + '.csv'), index=False)"
   ]
  },
  {
   "cell_type": "markdown",
   "metadata": {},
   "source": [
    "### O3"
   ]
  },
  {
   "cell_type": "code",
   "execution_count": 4,
   "metadata": {},
   "outputs": [],
   "source": [
    "# define paths\n",
    "monitor_coords_file = \"../../data/processed/monitor/monitor_coords.csv\"\n",
    "raster_root = \"../../data/processed/o3/\"\n",
    "output_root = \"../../data/processed/o3_csv/\"\n",
    "# extract coords\n",
    "monitor_coords = pd.read_csv(monitor_coords_file)\n",
    "output = monitor_coords[['id']].copy()\n",
    "points = monitor_coords[['long', 'lat']].values\n",
    "# list files\n",
    "raster_files = [f for f in os.listdir(raster_root) if f.endswith('.tif')]"
   ]
  },
  {
   "cell_type": "code",
   "execution_count": 5,
   "metadata": {},
   "outputs": [],
   "source": [
    "# test\n",
    "if False:\n",
    "    raster_files = raster_files[0:3]"
   ]
  },
  {
   "cell_type": "code",
   "execution_count": 6,
   "metadata": {},
   "outputs": [
    {
     "data": {
      "application/vnd.jupyter.widget-view+json": {
       "model_id": "134fc73f508545638091d1ccaabf166f",
       "version_major": 2,
       "version_minor": 0
      },
      "text/html": [
       "<p>Failed to display Jupyter Widget of type <code>HBox</code>.</p>\n",
       "<p>\n",
       "  If you're reading this message in Jupyter Notebook or JupyterLab, it may mean\n",
       "  that the widgets JavaScript is still loading. If this message persists, it\n",
       "  likely means that the widgets JavaScript library is either not installed or\n",
       "  not enabled. See the <a href=\"https://ipywidgets.readthedocs.io/en/stable/user_install.html\">Jupyter\n",
       "  Widgets Documentation</a> for setup instructions.\n",
       "</p>\n",
       "<p>\n",
       "  If you're reading this message in another notebook frontend (for example, a static\n",
       "  rendering on GitHub or <a href=\"https://nbviewer.jupyter.org/\">NBViewer</a>),\n",
       "  it may mean that your frontend doesn't currently support widgets.\n",
       "</p>\n"
      ],
      "text/plain": [
       "HBox(children=(IntProgress(value=0, max=4366), HTML(value='')))"
      ]
     },
     "metadata": {},
     "output_type": "display_data"
    },
    {
     "name": "stderr",
     "output_type": "stream",
     "text": [
      "/usr/local/lib/python3.5/dist-packages/ipykernel_launcher.py:77: RuntimeWarning: Mean of empty slice\n"
     ]
    },
    {
     "name": "stdout",
     "output_type": "stream",
     "text": [
      "\n"
     ]
    }
   ],
   "source": [
    "raster_parent = Raster()\n",
    "for raster_file in tqdm_notebook(raster_files):\n",
    "    # parse file name\n",
    "    raster_info = raster_file.split('.')[0]\n",
    "    date, dataset, variable = raster_info.split('_')\n",
    "    # read in array\n",
    "    raster = gdal.Open(os.path.join(raster_root, raster_file)).ReadAsArray()\n",
    "    raster_parent.fill(raster)\n",
    "    # generate output\n",
    "    raster_output = raster_parent.find_interpolated(points).astype(np.float16)\n",
    "    # reduce float bytes\n",
    "    kwargs = {variable: raster_output, 'date': date}\n",
    "    output.assign(**kwargs).to_csv(os.path.join(output_root, raster_info + '.csv'), index=False)"
   ]
  },
  {
   "cell_type": "markdown",
   "metadata": {},
   "source": [
    "### SO2"
   ]
  },
  {
   "cell_type": "code",
   "execution_count": 9,
   "metadata": {},
   "outputs": [],
   "source": [
    "# define paths\n",
    "monitor_coords_file = \"../../data/processed/monitor/monitor_coords.csv\"\n",
    "raster_root = \"../../data/omi_so2/\"\n",
    "output_root = \"../../data/processed/so2_csv/\"\n",
    "# extract coords\n",
    "monitor_coords = pd.read_csv(monitor_coords_file)\n",
    "output = monitor_coords[['id']].copy()\n",
    "points = monitor_coords[['long', 'lat']].values\n",
    "# list files\n",
    "raster_files = [f for f in os.listdir(raster_root) if f.endswith('.tif')]"
   ]
  },
  {
   "cell_type": "code",
   "execution_count": 10,
   "metadata": {},
   "outputs": [],
   "source": [
    "# test\n",
    "if False:\n",
    "    raster_files = raster_files[0:3]"
   ]
  },
  {
   "cell_type": "code",
   "execution_count": 11,
   "metadata": {},
   "outputs": [
    {
     "data": {
      "application/vnd.jupyter.widget-view+json": {
       "model_id": "1c6d036a43a8451b84b26bd62b80e77a",
       "version_major": 2,
       "version_minor": 0
      },
      "text/html": [
       "<p>Failed to display Jupyter Widget of type <code>HBox</code>.</p>\n",
       "<p>\n",
       "  If you're reading this message in Jupyter Notebook or JupyterLab, it may mean\n",
       "  that the widgets JavaScript is still loading. If this message persists, it\n",
       "  likely means that the widgets JavaScript library is either not installed or\n",
       "  not enabled. See the <a href=\"https://ipywidgets.readthedocs.io/en/stable/user_install.html\">Jupyter\n",
       "  Widgets Documentation</a> for setup instructions.\n",
       "</p>\n",
       "<p>\n",
       "  If you're reading this message in another notebook frontend (for example, a static\n",
       "  rendering on GitHub or <a href=\"https://nbviewer.jupyter.org/\">NBViewer</a>),\n",
       "  it may mean that your frontend doesn't currently support widgets.\n",
       "</p>\n"
      ],
      "text/plain": [
       "HBox(children=(IntProgress(value=0, max=4365), HTML(value='')))"
      ]
     },
     "metadata": {},
     "output_type": "display_data"
    },
    {
     "name": "stderr",
     "output_type": "stream",
     "text": [
      "/usr/local/lib/python3.5/dist-packages/ipykernel_launcher.py:77: RuntimeWarning: Mean of empty slice\n"
     ]
    },
    {
     "name": "stdout",
     "output_type": "stream",
     "text": [
      "\n"
     ]
    }
   ],
   "source": [
    "raster_parent = Raster()\n",
    "for raster_file in tqdm_notebook(raster_files):\n",
    "    # parse file name\n",
    "    raster_info = raster_file.split('.')[0]\n",
    "    date, dataset, variable = raster_info.split('_')\n",
    "    # read in array\n",
    "    raster = gdal.Open(os.path.join(raster_root, raster_file)).ReadAsArray()\n",
    "    # censor\n",
    "    raster[raster < -1e+10] = np.nan\n",
    "    # check dimension\n",
    "    if raster.shape == (400, 650):\n",
    "        raster_parent.fill(raster.T)\n",
    "    elif raster.shape == (650, 400):\n",
    "        raster_parent.fill(raster)\n",
    "    else:\n",
    "        assert False\n",
    "    # generate output\n",
    "    raster_output = raster_parent.find_interpolated(points).astype(np.float16)\n",
    "    # reduce float bytes\n",
    "    kwargs = {variable: raster_output, 'date': date}\n",
    "    output.assign(**kwargs).to_csv(os.path.join(output_root, raster_info + '.csv'), index=False)"
   ]
  },
  {
   "cell_type": "markdown",
   "metadata": {},
   "source": [
    "### MYDAOD"
   ]
  },
  {
   "cell_type": "code",
   "execution_count": 12,
   "metadata": {},
   "outputs": [],
   "source": [
    "# define paths\n",
    "monitor_coords_file = \"../../data/processed/monitor/monitor_coords.csv\"\n",
    "raster_root = \"../../data/MYDAOD/\"\n",
    "output_root = \"../../data/processed/mydaod_csv/\"\n",
    "# extract coords\n",
    "monitor_coords = pd.read_csv(monitor_coords_file)\n",
    "output = monitor_coords[['id']].copy()\n",
    "points = monitor_coords[['long', 'lat']].values\n",
    "# list files\n",
    "raster_files = [f for f in os.listdir(raster_root) if f.endswith('.tif')]"
   ]
  },
  {
   "cell_type": "code",
   "execution_count": null,
   "metadata": {},
   "outputs": [],
   "source": [
    "# test\n",
    "if False:\n",
    "    raster_files = raster_files[0:3]"
   ]
  },
  {
   "cell_type": "code",
   "execution_count": null,
   "metadata": {},
   "outputs": [
    {
     "data": {
      "application/vnd.jupyter.widget-view+json": {
       "model_id": "b1b6493095b445afbcc50af6d701748c",
       "version_major": 2,
       "version_minor": 0
      },
      "text/html": [
       "<p>Failed to display Jupyter Widget of type <code>HBox</code>.</p>\n",
       "<p>\n",
       "  If you're reading this message in Jupyter Notebook or JupyterLab, it may mean\n",
       "  that the widgets JavaScript is still loading. If this message persists, it\n",
       "  likely means that the widgets JavaScript library is either not installed or\n",
       "  not enabled. See the <a href=\"https://ipywidgets.readthedocs.io/en/stable/user_install.html\">Jupyter\n",
       "  Widgets Documentation</a> for setup instructions.\n",
       "</p>\n",
       "<p>\n",
       "  If you're reading this message in another notebook frontend (for example, a static\n",
       "  rendering on GitHub or <a href=\"https://nbviewer.jupyter.org/\">NBViewer</a>),\n",
       "  it may mean that your frontend doesn't currently support widgets.\n",
       "</p>\n"
      ],
      "text/plain": [
       "HBox(children=(IntProgress(value=0, max=4380), HTML(value='')))"
      ]
     },
     "metadata": {},
     "output_type": "display_data"
    },
    {
     "name": "stderr",
     "output_type": "stream",
     "text": [
      "/usr/local/lib/python3.5/dist-packages/ipykernel_launcher.py:77: RuntimeWarning: Mean of empty slice\n"
     ]
    }
   ],
   "source": [
    "raster_parent = Raster()\n",
    "for raster_file in tqdm_notebook(raster_files):\n",
    "    # parse file name\n",
    "    raster_info = raster_file.split('.')[0]\n",
    "    date, dataset, variable = raster_info.split('_')\n",
    "    # read in array\n",
    "    raster = gdal.Open(os.path.join(raster_root, raster_file)).ReadAsArray()\n",
    "    # censor\n",
    "    raster[raster < -1e+10] = np.nan\n",
    "    # check dimension\n",
    "    if raster.shape == (400, 650):\n",
    "        raster_parent.fill(raster.T)\n",
    "    elif raster.shape == (650, 400):\n",
    "        raster_parent.fill(raster)\n",
    "    else:\n",
    "        assert False\n",
    "    # generate output\n",
    "    raster_output = raster_parent.find_interpolated(points).astype(np.float16)\n",
    "    # reduce float bytes\n",
    "    kwargs = {variable: raster_output, 'date': date}\n",
    "    output.assign(**kwargs).to_csv(os.path.join(output_root, raster_info + '.csv'), index=False)"
   ]
  },
  {
   "cell_type": "markdown",
   "metadata": {},
   "source": [
    "### MODAOD"
   ]
  },
  {
   "cell_type": "code",
   "execution_count": null,
   "metadata": {},
   "outputs": [],
   "source": [
    "# define paths\n",
    "monitor_coords_file = \"../../data/processed/monitor/monitor_coords.csv\"\n",
    "raster_root = \"../../data/MODAOD/\"\n",
    "output_root = \"../../data/processed/modaod_csv/\"\n",
    "# extract coords\n",
    "monitor_coords = pd.read_csv(monitor_coords_file)\n",
    "output = monitor_coords[['id']].copy()\n",
    "points = monitor_coords[['long', 'lat']].values\n",
    "# list files\n",
    "raster_files = [f for f in os.listdir(raster_root) if f.endswith('.tif')]"
   ]
  },
  {
   "cell_type": "code",
   "execution_count": null,
   "metadata": {},
   "outputs": [],
   "source": [
    "# test\n",
    "if False:\n",
    "    raster_files = raster_files[0:3]"
   ]
  },
  {
   "cell_type": "code",
   "execution_count": null,
   "metadata": {},
   "outputs": [],
   "source": [
    "raster_parent = Raster()\n",
    "for raster_file in tqdm_notebook(raster_files):\n",
    "    # parse file name\n",
    "    raster_info = raster_file.split('.')[0]\n",
    "    date, dataset, variable = raster_info.split('_')\n",
    "    # read in array\n",
    "    raster = gdal.Open(os.path.join(raster_root, raster_file)).ReadAsArray()\n",
    "    # censor\n",
    "    raster[raster < -1e+10] = np.nan\n",
    "    # check dimension\n",
    "    if raster.shape == (400, 650):\n",
    "        raster_parent.fill(raster.T)\n",
    "    elif raster.shape == (650, 400):\n",
    "        raster_parent.fill(raster)\n",
    "    else:\n",
    "        assert False\n",
    "    # generate output\n",
    "    raster_output = raster_parent.find_interpolated(points).astype(np.float16)\n",
    "    # reduce float bytes\n",
    "    kwargs = {variable: raster_output, 'date': date}\n",
    "    output.assign(**kwargs).to_csv(os.path.join(output_root, raster_info + '.csv'), index=False)"
   ]
  },
  {
   "cell_type": "markdown",
   "metadata": {},
   "source": [
    "### Kernel"
   ]
  },
  {
   "cell_type": "code",
   "execution_count": 10,
   "metadata": {},
   "outputs": [
    {
     "data": {
      "image/png": "[encoded data removed]",
      "text/plain": [
       "<matplotlib.figure.Figure at 0x7f1ccf7cf3c8>"
      ]
     },
     "metadata": {},
     "output_type": "display_data"
    }
   ],
   "source": [
    "x = np.arange(0, 30)\n",
    "y = np.arange(0, 30)\n",
    "xx, yy = np.meshgrid(x, y)\n",
    "k = (14.5 ** 2 - ((xx - 14.5)**2 + (yy - 14.5)**2))\n",
    "k[k < 0] = 0\n",
    "plt.imshow(k)\n",
    "plt.colorbar()\n",
    "plt.show()"
   ]
  },
  {
   "cell_type": "code",
   "execution_count": 8,
   "metadata": {},
   "outputs": [],
   "source": [
    "# define paths\n",
    "monitor_coords_file = \"../../data/processed/monitor/monitor_coords.csv\"\n",
    "raster_root = \"../../data/MODAOD/\"\n",
    "output_root = \"../../data/processed/modaod_kernel_csv/\"\n",
    "# extract coords\n",
    "monitor_coords = pd.read_csv(monitor_coords_file)\n",
    "output = monitor_coords[['id']].copy()\n",
    "points = monitor_coords[['long', 'lat']].values\n",
    "# list files\n",
    "raster_files = [f for f in os.listdir(raster_root) if f.endswith('.tif')]"
   ]
  },
  {
   "cell_type": "code",
   "execution_count": 9,
   "metadata": {},
   "outputs": [],
   "source": [
    "# test\n",
    "if True:\n",
    "    raster_files = raster_files[0:3]"
   ]
  },
  {
   "cell_type": "code",
   "execution_count": 45,
   "metadata": {},
   "outputs": [
    {
     "data": {
      "application/vnd.jupyter.widget-view+json": {
       "model_id": "3c41c57692ef4ed582d3df5125dbf953",
       "version_major": 2,
       "version_minor": 0
      },
      "text/html": [
       "<p>Failed to display Jupyter Widget of type <code>HBox</code>.</p>\n",
       "<p>\n",
       "  If you're reading this message in Jupyter Notebook or JupyterLab, it may mean\n",
       "  that the widgets JavaScript is still loading. If this message persists, it\n",
       "  likely means that the widgets JavaScript library is either not installed or\n",
       "  not enabled. See the <a href=\"https://ipywidgets.readthedocs.io/en/stable/user_install.html\">Jupyter\n",
       "  Widgets Documentation</a> for setup instructions.\n",
       "</p>\n",
       "<p>\n",
       "  If you're reading this message in another notebook frontend (for example, a static\n",
       "  rendering on GitHub or <a href=\"https://nbviewer.jupyter.org/\">NBViewer</a>),\n",
       "  it may mean that your frontend doesn't currently support widgets.\n",
       "</p>\n"
      ],
      "text/plain": [
       "HBox(children=(IntProgress(value=0, max=3), HTML(value='')))"
      ]
     },
     "metadata": {},
     "output_type": "display_data"
    },
    {
     "name": "stdout",
     "output_type": "stream",
     "text": [
      "\n"
     ]
    }
   ],
   "source": [
    "raster_parent = Raster()\n",
    "for raster_file in tqdm_notebook(raster_files):\n",
    "    # parse file name\n",
    "    raster_info = raster_file.split('.')[0]\n",
    "    date, dataset, variable = raster_info.split('_')\n",
    "    # read in array\n",
    "    raster = gdal.Open(os.path.join(raster_root, raster_file)).ReadAsArray()\n",
    "    # censor\n",
    "    raster[raster < -1e+10] = np.nan\n",
    "    # check dimension\n",
    "    if raster.shape == (400, 650):\n",
    "        raster_parent.fill(raster.T)\n",
    "    elif raster.shape == (650, 400):\n",
    "        raster_parent.fill(raster)\n",
    "    else:\n",
    "        assert False\n",
    "    # generate output\n",
    "    raster_output = raster_parent.find_weighted_mean(kernel=k, points=points).astype(np.float16)\n",
    "    # reduce float bytes\n",
    "    kwargs = {variable: raster_output, 'date': date}\n",
    "    output.assign(**kwargs).to_csv(os.path.join(output_root, raster_info + '.csv'), index=False)"
   ]
  },
  {
   "cell_type": "code",
   "execution_count": null,
   "metadata": {},
   "outputs": [],
   "source": []
  }
 ],
 "metadata": {
  "anaconda-cloud": {},
  "kernelspec": {
   "display_name": "Python 3",
   "language": "python",
   "name": "python3"
  },
  "language_info": {
   "codemirror_mode": {
    "name": "ipython",
    "version": 3
   },
   "file_extension": ".py",
   "mimetype": "text/x-python",
   "name": "python",
   "nbconvert_exporter": "python",
   "pygments_lexer": "ipython3",
   "version": "3.5.2"
  }
 },
 "nbformat": 4,
 "nbformat_minor": 2
}
