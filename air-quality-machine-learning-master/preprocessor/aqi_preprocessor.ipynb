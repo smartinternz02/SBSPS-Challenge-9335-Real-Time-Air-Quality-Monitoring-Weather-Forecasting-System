{
 "cells": [
  {
   "cell_type": "code",
   "execution_count": 1,
   "metadata": {},
   "outputs": [],
   "source": [
    "import pandas as pd\n",
    "import numpy as np\n",
    "import os\n",
    "import re\n",
    "import time\n",
    "from datetime import datetime\n",
    "from tqdm import tqdm_notebook"
   ]
  },
  {
   "cell_type": "code",
   "execution_count": 2,
   "metadata": {},
   "outputs": [
    {
     "name": "stdout",
     "output_type": "stream",
     "text": [
      "['china_sites_20150730.csv', 'china_sites_20160225.csv', 'china_sites_20150102.csv', 'china_sites_20150103.csv', 'china_sites_20150104.csv']\n"
     ]
    }
   ],
   "source": [
    "input_root = \"../../data/raw/aqi/aqi_2015_2016/\"\n",
    "output_root = \"../../data/csv/aqi_csv/\"\n",
    "# input_root = \"../../data/raw/aqi/aqi_2014/\"\n",
    "# output_root = \"../../data/csv/aqi_csv_test/\"\n",
    "files = [f for f in os.listdir(input_root) if f.startswith('china_sites_')]\n",
    "print(files[:5])"
   ]
  },
  {
   "cell_type": "code",
   "execution_count": 3,
   "metadata": {},
   "outputs": [],
   "source": [
    "# test case\n",
    "# files = files[:5]"
   ]
  },
  {
   "cell_type": "code",
   "execution_count": 4,
   "metadata": {},
   "outputs": [],
   "source": [
    "def convert(pm10, no2, so2):\n",
    "    \"\"\"Accept three 1d arrays of the same length\"\"\"\n",
    "    \n",
    "    api_breaks = np.array([0, 50, 100, 200, 300, 400, 500])\n",
    "    \n",
    "    # convert from mg/m3 to ug/m3\n",
    "    pm10_breaks = np.array([0, 0.050, 0.150, 0.350, 0.420, 0.500, 0.600]) * 1000\n",
    "    so2_breaks = np.array([0, 0.050, 0.150, 0.800, 1.600, 2.100, 2.620]) * 1000\n",
    "    no2_breaks = np.array([0, 0.080, 0.120, 0.280, 0.565, 0.750, 0.940]) * 1000\n",
    "    \n",
    "    # piecewise linear functions\n",
    "    pm10_idx = np.interp(pm10, pm10_breaks, api_breaks)\n",
    "    so2_idx = np.interp(so2, so2_breaks, api_breaks)\n",
    "    no2_idx = np.interp(no2, no2_breaks, api_breaks)\n",
    "    \n",
    "    return(np.amax([pm10_idx, so2_idx, no2_idx], axis=0))"
   ]
  },
  {
   "cell_type": "code",
   "execution_count": 5,
   "metadata": {},
   "outputs": [
    {
     "data": {
      "application/vnd.jupyter.widget-view+json": {
       "model_id": "cfb63218e3814134ba32487b9ff6b6bc",
       "version_major": 2,
       "version_minor": 0
      },
      "text/html": [
       "<p>Failed to display Jupyter Widget of type <code>HBox</code>.</p>\n",
       "<p>\n",
       "  If you're reading this message in Jupyter Notebook or JupyterLab, it may mean\n",
       "  that the widgets JavaScript is still loading. If this message persists, it\n",
       "  likely means that the widgets JavaScript library is either not installed or\n",
       "  not enabled. See the <a href=\"https://ipywidgets.readthedocs.io/en/stable/user_install.html\">Jupyter\n",
       "  Widgets Documentation</a> for setup instructions.\n",
       "</p>\n",
       "<p>\n",
       "  If you're reading this message in another notebook frontend (for example, a static\n",
       "  rendering on GitHub or <a href=\"https://nbviewer.jupyter.org/\">NBViewer</a>),\n",
       "  it may mean that your frontend doesn't currently support widgets.\n",
       "</p>\n"
      ],
      "text/plain": [
       "HBox(children=(IntProgress(value=0, max=730), HTML(value='')))"
      ]
     },
     "metadata": {},
     "output_type": "display_data"
    },
    {
     "name": "stderr",
     "output_type": "stream",
     "text": [
      "/usr/local/lib/python3.5/dist-packages/pandas/core/groupby.py:847: RuntimeWarning: Mean of empty slice\n",
      "  f = lambda x: func(x, *args, **kwargs)\n"
     ]
    },
    {
     "name": "stdout",
     "output_type": "stream",
     "text": [
      "\n"
     ]
    }
   ],
   "source": [
    "for file in tqdm_notebook(files):\n",
    "    # parse and format dates\n",
    "    csv_date = re.findall('\\d+', file)[0]\n",
    "    csv_date = datetime.strptime(csv_date, \"%Y%m%d\").strftime(\"%Y-%m-%d\")\n",
    "    # load file and take means\n",
    "    csv = pd.read_csv(os.path.join(input_root, file))\n",
    "    # csv = csv[csv.hour.between(10, 14)]\n",
    "    if csv.shape[0] > 0:\n",
    "        csv = csv.drop(['date', 'hour'], axis=1)\n",
    "        csv = csv.set_index('type')\n",
    "        csv = csv.drop(['CO_24h', 'NO2_24h', 'O3_24h', 'O3_8h',\n",
    "                        'O3_8h_24h', 'PM10_24h', 'PM2.5_24h', 'SO2_24h'], axis=0)\n",
    "        csv = csv.groupby('type').agg(np.nanmean)\n",
    "        csv = csv.transpose()\n",
    "        csv.columns = [\"target_\" + s for s in csv.columns]\n",
    "        csv = csv.assign(date = csv_date)\n",
    "        csv.index.name = 'id'\n",
    "        csv = csv.assign(target_API = convert(\n",
    "            pm10=csv.target_PM10.values,\n",
    "            no2=csv.target_NO2.values,\n",
    "            so2=csv.target_SO2.values))\n",
    "        csv.to_csv(os.path.join(output_root, csv_date + '_AQI.csv'))"
   ]
  },
  {
   "cell_type": "code",
   "execution_count": null,
   "metadata": {},
   "outputs": [],
   "source": []
  }
 ],
 "metadata": {
  "anaconda-cloud": {},
  "kernelspec": {
   "display_name": "Python 3",
   "language": "python",
   "name": "python3"
  },
  "language_info": {
   "codemirror_mode": {
    "name": "ipython",
    "version": 3
   },
   "file_extension": ".py",
   "mimetype": "text/x-python",
   "name": "python",
   "nbconvert_exporter": "python",
   "pygments_lexer": "ipython3",
   "version": "3.5.2"
  }
 },
 "nbformat": 4,
 "nbformat_minor": 2
}
