{
 "cells": [
  {
   "cell_type": "markdown",
   "metadata": {},
   "source": [
    "## Setup"
   ]
  },
  {
   "cell_type": "code",
   "execution_count": 6,
   "metadata": {},
   "outputs": [],
   "source": [
    "import pandas as pd\n",
    "import numpy as np\n",
    "from glob import glob\n",
    "import os\n",
    "import matplotlib.pyplot as plt\n",
    "from sklearn.utils import shuffle\n",
    "from ast import literal_eval\n",
    "from random import choice\n",
    "from xgboost import XGBRegressor, plot_importance\n",
    "from sklearn.metrics import r2_score\n",
    "from sklearn.model_selection import GridSearchCV\n",
    "from sklearn.model_selection import KFold\n",
    "from tqdm import tqdm_notebook"
   ]
  },
  {
   "cell_type": "code",
   "execution_count": 2,
   "metadata": {},
   "outputs": [],
   "source": [
    "# declare paths\n",
    "in_root = \"../../data/main/\"\n",
    "out_root = \"../../data/output/xgbooster/\""
   ]
  },
  {
   "cell_type": "code",
   "execution_count": 3,
   "metadata": {},
   "outputs": [],
   "source": [
    "df = pd.read_csv(os.path.join(in_root, \"train_test.csv\"))\n",
    "df.sort_values(['id', 'date'], inplace=True)\n",
    "df.set_index(['id'], inplace=True)\n",
    "labels = df.loc[:, ~df.columns.str.startswith('target_')].drop(['date'], axis=1).columns"
   ]
  },
  {
   "cell_type": "code",
   "execution_count": 4,
   "metadata": {},
   "outputs": [],
   "source": [
    "target_name = \"NO2\""
   ]
  },
  {
   "cell_type": "markdown",
   "metadata": {},
   "source": [
    "## Loading Params"
   ]
  },
  {
   "cell_type": "code",
   "execution_count": 8,
   "metadata": {},
   "outputs": [],
   "source": [
    "# xgboost hyperparams\n",
    "with open(os.path.join(out_root, \"params/\", \"params_\" + target_name + \".txt\"), 'r') as f:\n",
    "    params = literal_eval(f.read())"
   ]
  },
  {
   "cell_type": "code",
   "execution_count": 22,
   "metadata": {},
   "outputs": [],
   "source": [
    "tune_params = {\n",
    "    \"learning_rate\": [0.0010, 0.0015, 0.0020],\n",
    "    \"reg_alpha\": [0.1, 0.2, 0.3, 0.5, 0.8],\n",
    "}"
   ]
  },
  {
   "cell_type": "markdown",
   "metadata": {},
   "source": [
    "## GridSearchCV Tuning"
   ]
  },
  {
   "cell_type": "code",
   "execution_count": 23,
   "metadata": {},
   "outputs": [
    {
     "name": "stdout",
     "output_type": "stream",
     "text": [
      "Fitting 3 folds for each of 15 candidates, totalling 45 fits\n"
     ]
    },
    {
     "name": "stderr",
     "output_type": "stream",
     "text": [
      "[Parallel(n_jobs=-1)]: Done  45 out of  45 | elapsed:   16.7s finished\n"
     ]
    },
    {
     "name": "stdout",
     "output_type": "stream",
     "text": [
      "{'reg_alpha': 0.3, 'learning_rate': 0.002} R2:  -0.0548301113745\n",
      "Fitting 3 folds for each of 15 candidates, totalling 45 fits\n"
     ]
    },
    {
     "name": "stderr",
     "output_type": "stream",
     "text": [
      "[Parallel(n_jobs=-1)]: Done  45 out of  45 | elapsed:   18.1s finished\n"
     ]
    },
    {
     "name": "stdout",
     "output_type": "stream",
     "text": [
      "{'reg_alpha': 0.1, 'learning_rate': 0.002} R2:  0.382438206981\n",
      "Fitting 3 folds for each of 15 candidates, totalling 45 fits\n"
     ]
    },
    {
     "name": "stderr",
     "output_type": "stream",
     "text": [
      "[Parallel(n_jobs=-1)]: Done  45 out of  45 | elapsed:   14.9s finished\n"
     ]
    },
    {
     "name": "stdout",
     "output_type": "stream",
     "text": [
      "{'reg_alpha': 0.2, 'learning_rate': 0.002} R2:  0.475619546156\n",
      "Fitting 3 folds for each of 15 candidates, totalling 45 fits\n"
     ]
    },
    {
     "name": "stderr",
     "output_type": "stream",
     "text": [
      "[Parallel(n_jobs=-1)]: Done  45 out of  45 | elapsed:   14.2s finished\n"
     ]
    },
    {
     "name": "stdout",
     "output_type": "stream",
     "text": [
      "{'reg_alpha': 0.3, 'learning_rate': 0.0015} R2:  0.606077445162\n",
      "Fitting 3 folds for each of 15 candidates, totalling 45 fits\n"
     ]
    },
    {
     "name": "stderr",
     "output_type": "stream",
     "text": [
      "[Parallel(n_jobs=-1)]: Done  45 out of  45 | elapsed:   17.2s finished\n"
     ]
    },
    {
     "name": "stdout",
     "output_type": "stream",
     "text": [
      "{'reg_alpha': 0.1, 'learning_rate': 0.002} R2:  0.165573289599\n",
      "Fitting 3 folds for each of 15 candidates, totalling 45 fits\n"
     ]
    },
    {
     "name": "stderr",
     "output_type": "stream",
     "text": [
      "[Parallel(n_jobs=-1)]: Done  45 out of  45 | elapsed:   17.0s finished\n"
     ]
    },
    {
     "name": "stdout",
     "output_type": "stream",
     "text": [
      "{'reg_alpha': 0.5, 'learning_rate': 0.001} R2:  -81.8997927776\n",
      "Fitting 3 folds for each of 15 candidates, totalling 45 fits\n"
     ]
    },
    {
     "name": "stderr",
     "output_type": "stream",
     "text": [
      "[Parallel(n_jobs=-1)]: Done  45 out of  45 | elapsed:   18.2s finished\n"
     ]
    },
    {
     "name": "stdout",
     "output_type": "stream",
     "text": [
      "{'reg_alpha': 0.1, 'learning_rate': 0.0015} R2:  0.0676669675182\n",
      "Fitting 3 folds for each of 15 candidates, totalling 45 fits\n"
     ]
    },
    {
     "name": "stderr",
     "output_type": "stream",
     "text": [
      "[Parallel(n_jobs=-1)]: Done  45 out of  45 | elapsed:   18.2s finished\n"
     ]
    },
    {
     "name": "stdout",
     "output_type": "stream",
     "text": [
      "{'reg_alpha': 0.8, 'learning_rate': 0.0015} R2:  0.365743705149\n",
      "Fitting 3 folds for each of 15 candidates, totalling 45 fits\n"
     ]
    },
    {
     "name": "stderr",
     "output_type": "stream",
     "text": [
      "[Parallel(n_jobs=-1)]: Done  45 out of  45 | elapsed:   15.9s finished\n"
     ]
    },
    {
     "name": "stdout",
     "output_type": "stream",
     "text": [
      "{'reg_alpha': 0.1, 'learning_rate': 0.002} R2:  -0.000893337199073\n",
      "Fitting 3 folds for each of 15 candidates, totalling 45 fits\n"
     ]
    },
    {
     "name": "stderr",
     "output_type": "stream",
     "text": [
      "[Parallel(n_jobs=-1)]: Done  45 out of  45 | elapsed:   17.6s finished\n"
     ]
    },
    {
     "name": "stdout",
     "output_type": "stream",
     "text": [
      "{'reg_alpha': 0.5, 'learning_rate': 0.002} R2:  0.562321770691\n"
     ]
    }
   ],
   "source": [
    "for _ in range(10):\n",
    "    station_id = choice(df.index.unique().tolist())\n",
    "    # select station for train_test\n",
    "    df_id = df.loc[station_id, :].copy()\n",
    "    df_id = df_id[~pd.isna(df_id['target_' + target_name])]\n",
    "    X, y = df_id.loc[:, ~df.columns.str.startswith('target_')].drop(['date'], axis=1).values, df_id['target_' + target_name].values\n",
    "    # split to train/test\n",
    "    split = int(X.shape[0] * 0.20)\n",
    "    X_train, y_train = X[split:], y[split:]\n",
    "    X_test, y_test = X[:split], y[:split]\n",
    "    # fit regression model\n",
    "    m = GridSearchCV(XGBRegressor(**params), tune_params, verbose=1, n_jobs=-1, scoring=\"r2\")\n",
    "    m.fit(X_train, y_train)\n",
    "    print(m.best_params_, \"R2: \", m.best_score_)"
   ]
  },
  {
   "cell_type": "markdown",
   "metadata": {},
   "source": [
    "## Examine Dataset and Feature Importances"
   ]
  },
  {
   "cell_type": "code",
   "execution_count": 9,
   "metadata": {},
   "outputs": [],
   "source": [
    "# df_id.describe().T"
   ]
  },
  {
   "cell_type": "code",
   "execution_count": 10,
   "metadata": {},
   "outputs": [
    {
     "data": {
      "text/plain": [
       "XGBRegressor(base_score=0.5, booster='gbtree', colsample_bylevel=1,\n",
       "       colsample_bytree=0.9, gamma=0.01, learning_rate=0.001,\n",
       "       max_delta_step=0, max_depth=3, min_child_weight=7, missing=None,\n",
       "       n_estimators=3000, n_jobs=1, nthread=None, objective='reg:linear',\n",
       "       random_state=0, reg_alpha=0.1, reg_lambda=0.9, scale_pos_weight=1,\n",
       "       seed=None, silent=True, subsample=0.7)"
      ]
     },
     "execution_count": 10,
     "metadata": {},
     "output_type": "execute_result"
    }
   ],
   "source": [
    "# m = XGBRegressor(**params)\n",
    "# m.fit(X_train, y_train)"
   ]
  },
  {
   "cell_type": "code",
   "execution_count": 11,
   "metadata": {},
   "outputs": [
    {
     "data": {
      "text/plain": [
       "0.81298773526107515"
      ]
     },
     "execution_count": 11,
     "metadata": {},
     "output_type": "execute_result"
    }
   ],
   "source": [
    "# r2_score(y_train, m.predict(X_train))"
   ]
  },
  {
   "cell_type": "code",
   "execution_count": 12,
   "metadata": {},
   "outputs": [
    {
     "data": {
      "text/plain": [
       "0.75156940832143326"
      ]
     },
     "execution_count": 12,
     "metadata": {},
     "output_type": "execute_result"
    }
   ],
   "source": [
    "# r2_score(y_test, m.predict(X_test))"
   ]
  },
  {
   "cell_type": "code",
   "execution_count": null,
   "metadata": {},
   "outputs": [],
   "source": [
    "# plt.figure(figsize=(10, 10))\n",
    "# plt.barh(range(len(m.feature_importances_)), m.feature_importances_,\n",
    "#          tick_label=labels)\n",
    "# plt.show()"
   ]
  },
  {
   "cell_type": "code",
   "execution_count": 25,
   "metadata": {},
   "outputs": [
    {
     "data": {
      "application/vnd.jupyter.widget-view+json": {
       "model_id": "c2de2c59e4e042f2ac0c0abf45f411a2",
       "version_major": 2,
       "version_minor": 0
      },
      "text/html": [
       "<p>Failed to display Jupyter Widget of type <code>HBox</code>.</p>\n",
       "<p>\n",
       "  If you're reading this message in Jupyter Notebook or JupyterLab, it may mean\n",
       "  that the widgets JavaScript is still loading. If this message persists, it\n",
       "  likely means that the widgets JavaScript library is either not installed or\n",
       "  not enabled. See the <a href=\"https://ipywidgets.readthedocs.io/en/stable/user_install.html\">Jupyter\n",
       "  Widgets Documentation</a> for setup instructions.\n",
       "</p>\n",
       "<p>\n",
       "  If you're reading this message in another notebook frontend (for example, a static\n",
       "  rendering on GitHub or <a href=\"https://nbviewer.jupyter.org/\">NBViewer</a>),\n",
       "  it may mean that your frontend doesn't currently support widgets.\n",
       "</p>\n"
      ],
      "text/plain": [
       "HBox(children=(IntProgress(value=0, max=30), HTML(value='')))"
      ]
     },
     "metadata": {},
     "output_type": "display_data"
    },
    {
     "name": "stdout",
     "output_type": "stream",
     "text": [
      "\n"
     ]
    }
   ],
   "source": [
    "r2 = []\n",
    "for _ in tqdm_notebook(range(30)):\n",
    "    station_id = choice(df.index.unique().tolist())\n",
    "    # select station for train_test\n",
    "    df_id = df.loc[station_id, :].copy()\n",
    "    df_id = df_id[~pd.isna(df_id['target_' + target_name])]\n",
    "    X, y = df_id.loc[:, ~df.columns.str.startswith('target_')].drop(['date'], axis=1).values, df_id['target_' + target_name].values\n",
    "    # split to train/test\n",
    "    split = int(X.shape[0] * 0.20)\n",
    "    X_train, y_train = X[split:], y[split:]\n",
    "    X_test, y_test = X[:split], y[:split]\n",
    "    # fit regression model\n",
    "    m = XGBRegressor(**params)\n",
    "    m.fit(X_train, y_train)\n",
    "    r2.append(r2_score(y_test, m.predict(X_test)))"
   ]
  },
  {
   "cell_type": "code",
   "execution_count": 26,
   "metadata": {},
   "outputs": [
    {
     "name": "stdout",
     "output_type": "stream",
     "text": [
      "24\n"
     ]
    },
    {
     "data": {
      "image/png": "[encoded data removed]",
      "text/plain": [
       "<matplotlib.figure.Figure at 0x7f5b11966ba8>"
      ]
     },
     "metadata": {},
     "output_type": "display_data"
    }
   ],
   "source": [
    "r2 = np.array(r2)\n",
    "print(np.sum(r2 > 0))\n",
    "r2 = r2[r2 > np.median(r2)]\n",
    "plt.hist(r2)\n",
    "plt.show()"
   ]
  },
  {
   "cell_type": "markdown",
   "metadata": {},
   "source": [
    "## CV versus Test R2"
   ]
  },
  {
   "cell_type": "code",
   "execution_count": 13,
   "metadata": {},
   "outputs": [
    {
     "name": "stdout",
     "output_type": "stream",
     "text": [
      "CV R2:  [-1.0172389823109227, -0.19783932932395532, -0.049484964325658298, 0.025646143035222169, 0.2837890519871461, -0.035373620511054416, -0.92150007982396143, -0.044339908361276992, 0.42695628493165338, 0.19158908398875385]\n",
      "Test R2:  -3.07805382639\n",
      "CV R2:  [0.066085931030028133, 0.018410326158754486, 0.17879463997003964, -0.74979689489452994, 0.3841704581454275, 0.12011551709747881, -2.8469376428710782, 0.61916901271274494, -1.7494523155072366, -0.16324072696631053]\n",
      "Test R2:  -0.603195340267\n",
      "CV R2:  [0.32340449831029794, 0.20367092366644157, -0.29848926656926023, -1.9304575271611499, 0.1572854688646369, 0.39188382044974601, 0.1145488546354787, 0.10988950372775186, 0.10972855542671633, -0.95948341356975342]\n",
      "Test R2:  0.0677594334324\n"
     ]
    }
   ],
   "source": [
    "kf = KFold(n_splits=10, shuffle=False, random_state=0)\n",
    "for _ in range(3):\n",
    "    station_id = choice(df.index.unique().tolist())\n",
    "    cv_r2 = []\n",
    "    # select station for train_test\n",
    "    df_id = df.loc[station_id, :].copy()\n",
    "    df_id = df_id[~pd.isna(df_id['target_' + target_name])]\n",
    "    X, y = df_id.loc[:, ~df.columns.str.startswith('target_')].drop(['date'], axis=1).values, df_id['target_' + target_name].values\n",
    "    # split to train/test\n",
    "    split = int(X.shape[0] * 0.20)\n",
    "    X_train, y_train = X[split:], y[split:]\n",
    "    X_test, y_test = X[:split], y[:split]\n",
    "    # fit regression model\n",
    "    m = XGBRegressor(**params)\n",
    "    for train_index, val_index in kf.split(X_train):\n",
    "        # train-test split\n",
    "        X_fit, X_val = X_train[train_index], X_train[val_index]\n",
    "        y_fit, y_val = y_train[train_index], y_train[val_index]  \n",
    "        # fit regression model\n",
    "        m.fit(X_fit, y_fit)\n",
    "        cv_r2.append(r2_score(y_val, m.predict(X_val)))\n",
    "    print(\"CV R2: \", cv_r2)\n",
    "    m.fit(X_train, y_train)\n",
    "    print(\"Test R2: \", r2_score(y_test, m.predict(X_test)))"
   ]
  },
  {
   "cell_type": "code",
   "execution_count": null,
   "metadata": {},
   "outputs": [],
   "source": []
  }
 ],
 "metadata": {
  "kernelspec": {
   "display_name": "Python 3",
   "language": "python",
   "name": "python3"
  },
  "language_info": {
   "codemirror_mode": {
    "name": "ipython",
    "version": 3
   },
   "file_extension": ".py",
   "mimetype": "text/x-python",
   "name": "python",
   "nbconvert_exporter": "python",
   "pygments_lexer": "ipython3",
   "version": "3.5.2"
  }
 },
 "nbformat": 4,
 "nbformat_minor": 2
}
