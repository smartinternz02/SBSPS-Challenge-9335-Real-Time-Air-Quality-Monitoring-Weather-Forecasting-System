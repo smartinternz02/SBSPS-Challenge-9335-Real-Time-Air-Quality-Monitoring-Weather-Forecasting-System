{
 "cells": [
  {
   "cell_type": "markdown",
   "metadata": {},
   "source": [
    "## Setup"
   ]
  },
  {
   "cell_type": "code",
   "execution_count": 1,
   "metadata": {},
   "outputs": [],
   "source": [
    "import pandas as pd\n",
    "import numpy as np\n",
    "from glob import glob\n",
    "import os\n",
    "import matplotlib.pyplot as plt\n",
    "from sklearn.utils import shuffle\n",
    "from ast import literal_eval\n",
    "from random import choice\n",
    "from xgboost import XGBRegressor, plot_importance\n",
    "from sklearn.linear_model import LinearRegression\n",
    "from sklearn.neural_network import MLPRegressor\n",
    "from sklearn.metrics import r2_score\n",
    "from sklearn.preprocessing import Imputer"
   ]
  },
  {
   "cell_type": "code",
   "execution_count": 2,
   "metadata": {},
   "outputs": [],
   "source": [
    "# declare paths\n",
    "in_root = \"../../data/main/\"\n",
    "out_root = \"../../data/output/xgbooster/\""
   ]
  },
  {
   "cell_type": "code",
   "execution_count": 3,
   "metadata": {},
   "outputs": [],
   "source": [
    "df = pd.read_csv(os.path.join(in_root, \"train_test.csv\"))\n",
    "df.set_index(['id'], inplace=True)\n",
    "labels = df.loc[:, ~df.columns.str.startswith('target_')].drop(['date'], axis=1).columns"
   ]
  },
  {
   "cell_type": "code",
   "execution_count": 4,
   "metadata": {},
   "outputs": [],
   "source": [
    "target_name = \"API\""
   ]
  },
  {
   "cell_type": "markdown",
   "metadata": {},
   "source": [
    "## Loading Params"
   ]
  },
  {
   "cell_type": "code",
   "execution_count": 5,
   "metadata": {},
   "outputs": [],
   "source": [
    "# xgboost hyperparams\n",
    "with open(os.path.join(out_root, \"params/\", \"params_\" + target_name + \".txt\"), 'r') as f:\n",
    "    params = literal_eval(f.read())"
   ]
  },
  {
   "cell_type": "markdown",
   "metadata": {},
   "source": [
    "## Baseline and Other Models"
   ]
  },
  {
   "cell_type": "code",
   "execution_count": 17,
   "metadata": {},
   "outputs": [],
   "source": [
    "r2 = []\n",
    "xgb_full, xgb_nodoy, xgb_nomerra2, linear, mlp = np.nan, np.nan, np.nan, np.nan, np.nan"
   ]
  },
  {
   "cell_type": "code",
   "execution_count": 18,
   "metadata": {},
   "outputs": [
    {
     "name": "stdout",
     "output_type": "stream",
     "text": [
      "Sampling 2531A...\n",
      "Sampling 1965A...\n",
      "Sampling 1381A...\n",
      "Sampling 1302A...\n",
      "Sampling 2603A...\n",
      "Sampling 1323A...\n",
      "Sampling 2249A...\n",
      "Sampling 1240A...\n",
      "Sampling 2668A...\n",
      "Sampling 1716A...\n"
     ]
    }
   ],
   "source": [
    "for _ in range(10):\n",
    "    \n",
    "    # randomly sample\n",
    "    station_id = choice(df.index.unique().tolist())\n",
    "    print(\"Sampling {}...\".format(station_id))\n",
    "    # select station for train_test\n",
    "    df_id = df.loc[station_id, :].copy()\n",
    "    df_id = df_id[~pd.isna(df_id['target_' + target_name])]\n",
    "    \n",
    "    # FULL MODEL\n",
    "    # slice data\n",
    "    X = df_id.loc[:, ~df.columns.str.startswith('target_')].drop(\n",
    "        ['date'], axis=1).values\n",
    "    y = df_id['target_' + target_name].values\n",
    "    # split to train/test\n",
    "    split = int(X.shape[0] * 0.80)\n",
    "    X, y = shuffle(X, y, random_state=42)\n",
    "    X_train, y_train = X[:split], y[:split]\n",
    "    X_test, y_test = X[split:], y[split:]\n",
    "    # fit model\n",
    "    m = XGBRegressor(**params)\n",
    "    m.fit(X_train, y_train)\n",
    "    xgb_full = r2_score(y_test, m.predict(X_test))\n",
    "    \n",
    "    # NO DOY\n",
    "    # slice data\n",
    "    X = df_id.loc[:, ~df.columns.str.startswith('target_')].drop(\n",
    "        ['date', 'doy'], axis=1).values\n",
    "    y = df_id['target_' + target_name].values\n",
    "    # split to train/test\n",
    "    split = int(X.shape[0] * 0.80)\n",
    "    X, y = shuffle(X, y, random_state=42)\n",
    "    X_train, y_train = X[:split], y[:split]\n",
    "    X_test, y_test = X[split:], y[split:]\n",
    "    # fit model\n",
    "    m = XGBRegressor(**params)\n",
    "    m.fit(X_train, y_train)\n",
    "    xgb_nodoy = r2_score(y_test, m.predict(X_test))\n",
    "    \n",
    "    # NO MERRA2 POLLUTANT\n",
    "    # slice data\n",
    "    X = df_id.loc[:, ~df.columns.str.startswith('target_')].drop(\n",
    "        ['date', 'AODANA', 'COSC', 'TO3'], axis=1).values\n",
    "    y = df_id['target_' + target_name].values\n",
    "    # split to train/test\n",
    "    split = int(X.shape[0] * 0.80)\n",
    "    X, y = shuffle(X, y, random_state=42)\n",
    "    X_train, y_train = X[:split], y[:split]\n",
    "    X_test, y_test = X[split:], y[split:]\n",
    "    # fit model\n",
    "    m = XGBRegressor(**params)\n",
    "    m.fit(X_train, y_train)\n",
    "    xgb_nomerra2 = r2_score(y_test, m.predict(X_test))\n",
    "    \n",
    "    # LINEAR REG\n",
    "    # slice data\n",
    "    X = df_id.loc[:, ~df.columns.str.startswith('target_')].drop(\n",
    "        ['date'], axis=1).values\n",
    "    y = df_id['target_' + target_name].values\n",
    "    # split to train/test\n",
    "    split = int(X.shape[0] * 0.80)\n",
    "    X, y = shuffle(X, y, random_state=42)\n",
    "    X_train, y_train = X[:split], y[:split]\n",
    "    X_test, y_test = X[split:], y[split:]\n",
    "    # impute mean\n",
    "    imp = Imputer()\n",
    "    X_train = imp.fit_transform(X_train)\n",
    "    X_test = imp.transform(X_test)\n",
    "    # fit model\n",
    "    m = LinearRegression()\n",
    "    m.fit(X_train, y_train)\n",
    "    linear = r2_score(y_test, m.predict(X_test))\n",
    "    \n",
    "    # MLP\n",
    "    # params\n",
    "    mlp_params = {\n",
    "        'alpha': 0.001,\n",
    "        'hidden_layer_sizes': (128, 128),\n",
    "        'learning_rate_init': 0.001,\n",
    "        'verbose': False}\n",
    "    # fit model\n",
    "    m = MLPRegressor(**mlp_params)\n",
    "    m.fit(X_train, y_train)\n",
    "    mlp = r2_score(y_test, m.predict(X_test))\n",
    "    \n",
    "    r2.append([xgb_full, xgb_nodoy, xgb_nomerra2, linear, mlp])"
   ]
  },
  {
   "cell_type": "code",
   "execution_count": 19,
   "metadata": {},
   "outputs": [
    {
     "data": {
      "text/html": [
       "<div>\n",
       "<style scoped>\n",
       "    .dataframe tbody tr th:only-of-type {\n",
       "        vertical-align: middle;\n",
       "    }\n",
       "\n",
       "    .dataframe tbody tr th {\n",
       "        vertical-align: top;\n",
       "    }\n",
       "\n",
       "    .dataframe thead th {\n",
       "        text-align: right;\n",
       "    }\n",
       "</style>\n",
       "<table border=\"1\" class=\"dataframe\">\n",
       "  <thead>\n",
       "    <tr style=\"text-align: right;\">\n",
       "      <th></th>\n",
       "      <th>xgb_full</th>\n",
       "      <th>xgb_nodoy</th>\n",
       "      <th>xgb_nomerra2</th>\n",
       "      <th>linear</th>\n",
       "      <th>mlp</th>\n",
       "    </tr>\n",
       "  </thead>\n",
       "  <tbody>\n",
       "    <tr>\n",
       "      <th>0</th>\n",
       "      <td>0.573290</td>\n",
       "      <td>0.440446</td>\n",
       "      <td>0.575957</td>\n",
       "      <td>0.180536</td>\n",
       "      <td>0.212598</td>\n",
       "    </tr>\n",
       "    <tr>\n",
       "      <th>1</th>\n",
       "      <td>0.388318</td>\n",
       "      <td>0.325685</td>\n",
       "      <td>0.306428</td>\n",
       "      <td>0.256430</td>\n",
       "      <td>0.188120</td>\n",
       "    </tr>\n",
       "    <tr>\n",
       "      <th>2</th>\n",
       "      <td>0.718987</td>\n",
       "      <td>0.715651</td>\n",
       "      <td>0.642593</td>\n",
       "      <td>0.484527</td>\n",
       "      <td>0.465771</td>\n",
       "    </tr>\n",
       "    <tr>\n",
       "      <th>3</th>\n",
       "      <td>0.441175</td>\n",
       "      <td>0.414059</td>\n",
       "      <td>0.485211</td>\n",
       "      <td>0.311807</td>\n",
       "      <td>0.244653</td>\n",
       "    </tr>\n",
       "    <tr>\n",
       "      <th>4</th>\n",
       "      <td>0.625416</td>\n",
       "      <td>0.588799</td>\n",
       "      <td>0.607995</td>\n",
       "      <td>0.638005</td>\n",
       "      <td>-0.392679</td>\n",
       "    </tr>\n",
       "    <tr>\n",
       "      <th>5</th>\n",
       "      <td>0.398816</td>\n",
       "      <td>0.381020</td>\n",
       "      <td>0.385446</td>\n",
       "      <td>0.290766</td>\n",
       "      <td>0.223393</td>\n",
       "    </tr>\n",
       "    <tr>\n",
       "      <th>6</th>\n",
       "      <td>0.407783</td>\n",
       "      <td>0.398610</td>\n",
       "      <td>0.368552</td>\n",
       "      <td>0.311752</td>\n",
       "      <td>0.337931</td>\n",
       "    </tr>\n",
       "    <tr>\n",
       "      <th>7</th>\n",
       "      <td>0.535165</td>\n",
       "      <td>0.508986</td>\n",
       "      <td>0.525225</td>\n",
       "      <td>0.343591</td>\n",
       "      <td>0.128709</td>\n",
       "    </tr>\n",
       "    <tr>\n",
       "      <th>8</th>\n",
       "      <td>0.514280</td>\n",
       "      <td>0.350268</td>\n",
       "      <td>0.536415</td>\n",
       "      <td>0.259983</td>\n",
       "      <td>0.278658</td>\n",
       "    </tr>\n",
       "    <tr>\n",
       "      <th>9</th>\n",
       "      <td>0.496584</td>\n",
       "      <td>0.496478</td>\n",
       "      <td>0.456744</td>\n",
       "      <td>0.375071</td>\n",
       "      <td>0.343738</td>\n",
       "    </tr>\n",
       "  </tbody>\n",
       "</table>\n",
       "</div>"
      ],
      "text/plain": [
       "   xgb_full  xgb_nodoy  xgb_nomerra2    linear       mlp\n",
       "0  0.573290   0.440446      0.575957  0.180536  0.212598\n",
       "1  0.388318   0.325685      0.306428  0.256430  0.188120\n",
       "2  0.718987   0.715651      0.642593  0.484527  0.465771\n",
       "3  0.441175   0.414059      0.485211  0.311807  0.244653\n",
       "4  0.625416   0.588799      0.607995  0.638005 -0.392679\n",
       "5  0.398816   0.381020      0.385446  0.290766  0.223393\n",
       "6  0.407783   0.398610      0.368552  0.311752  0.337931\n",
       "7  0.535165   0.508986      0.525225  0.343591  0.128709\n",
       "8  0.514280   0.350268      0.536415  0.259983  0.278658\n",
       "9  0.496584   0.496478      0.456744  0.375071  0.343738"
      ]
     },
     "execution_count": 19,
     "metadata": {},
     "output_type": "execute_result"
    }
   ],
   "source": [
    "r2 = pd.DataFrame(r2, columns=[\"xgb_full\", \"xgb_nodoy\", \"xgb_nomerra2\", \"linear\", \"mlp\"])\n",
    "r2"
   ]
  },
  {
   "cell_type": "code",
   "execution_count": 38,
   "metadata": {},
   "outputs": [
    {
     "data": {
      "image/png": "[encoded data removed]",
      "text/plain": [
       "<matplotlib.figure.Figure at 0x7f69db36c390>"
      ]
     },
     "metadata": {},
     "output_type": "display_data"
    }
   ],
   "source": [
    "plt.hist(r2.values, histtype='bar', label=r2.columns.values.tolist())\n",
    "plt.legend(prop={'size': 10})\n",
    "plt.title(\"Performance Comparison Across Different Specifications\")\n",
    "plt.show()"
   ]
  },
  {
   "cell_type": "code",
   "execution_count": null,
   "metadata": {},
   "outputs": [],
   "source": []
  }
 ],
 "metadata": {
  "kernelspec": {
   "display_name": "Python 3",
   "language": "python",
   "name": "python3"
  },
  "language_info": {
   "codemirror_mode": {
    "name": "ipython",
    "version": 3
   },
   "file_extension": ".py",
   "mimetype": "text/x-python",
   "name": "python",
   "nbconvert_exporter": "python",
   "pygments_lexer": "ipython3",
   "version": "3.5.2"
  }
 },
 "nbformat": 4,
 "nbformat_minor": 2
}
